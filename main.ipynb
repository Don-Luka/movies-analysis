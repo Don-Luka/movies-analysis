{
 "cells": [
  {
   "cell_type": "code",
   "execution_count": 97,
   "metadata": {},
   "outputs": [],
   "source": [
    "import sys\n",
    "\n",
    "import numpy as np\n",
    "import pandas as pd\n",
    "import matplotlib.pyplot as plt\n",
    "import seaborn as sns"
   ]
  },
  {
   "cell_type": "code",
   "execution_count": 98,
   "metadata": {},
   "outputs": [],
   "source": [
    "# Pobranie baz danych \n",
    "genres_raw = pd.read_csv('tmdb_genres.csv', index_col=0)\n",
    "movies_raw = pd.read_csv('tmdb_movies.csv', index_col=0)"
   ]
  },
  {
   "cell_type": "code",
   "execution_count": 99,
   "metadata": {},
   "outputs": [
    {
     "name": "stdout",
     "output_type": "stream",
     "text": [
      "Index([   28.0,    12.0,    14.0,    16.0,   878.0,    18.0,    53.0, 10751.0,\n",
      "          35.0,    36.0, 10752.0,    37.0, 10749.0,    80.0,  9648.0,    27.0,\n",
      "          99.0, 10402.0, 10770.0,     nan, 10769.0],\n",
      "      dtype='float64')\n",
      "Index(['budget', 'homepage', 'id', 'original_language', 'original_title',\n",
      "       'overview', 'popularity', 'release_date', 'revenue', 'runtime',\n",
      "       'status', 'tagline', 'title', 'vote_average', 'vote_count', 'genre_id'],\n",
      "      dtype='object')\n"
     ]
    }
   ],
   "source": [
    "# Podgląd baz\n",
    "print(genres_raw.index)\n",
    "print(movies_raw.columns)"
   ]
  },
  {
   "cell_type": "code",
   "execution_count": null,
   "metadata": {},
   "outputs": [],
   "source": [
    "\n",
    "\n"
   ]
  },
  {
   "cell_type": "markdown",
   "metadata": {},
   "source": [
    "Baza filmów zawiera kolumnę z id gatunku (genre_id). \\\n",
    "Na tej podstawie połącz ze sobą bazę filmów z bazą gatunków, \n",
    "tak aby w bazie filmów można było odczytać nazwę gatunku filmu."
   ]
  },
  {
   "cell_type": "code",
   "execution_count": 100,
   "metadata": {},
   "outputs": [],
   "source": [
    "# Zmiana indeksu bazy gatunków w celu połączenia tabel\n",
    "genres_raw.reset_index(inplace=True)\n",
    "genres_raw.rename(columns={'index': 'genre_id'}, inplace=True)"
   ]
  },
  {
   "cell_type": "code",
   "execution_count": 101,
   "metadata": {},
   "outputs": [
    {
     "name": "stdout",
     "output_type": "stream",
     "text": [
      "Index(['genre_id', 'genres'], dtype='object')\n",
      "Index(['budget', 'homepage', 'id', 'original_language', 'original_title',\n",
      "       'overview', 'popularity', 'release_date', 'revenue', 'runtime',\n",
      "       'status', 'tagline', 'title', 'vote_average', 'vote_count', 'genre_id'],\n",
      "      dtype='object')\n"
     ]
    }
   ],
   "source": [
    "# podgląd\n",
    "print(genres_raw.columns)\n",
    "print(movies_raw.columns)"
   ]
  },
  {
   "cell_type": "code",
   "execution_count": 102,
   "metadata": {},
   "outputs": [
    {
     "name": "stdout",
     "output_type": "stream",
     "text": [
      "Index(['budget', 'homepage', 'id', 'original_language', 'original_title',\n",
      "       'overview', 'popularity', 'release_date', 'revenue', 'runtime',\n",
      "       'status', 'tagline', 'title', 'vote_average', 'vote_count', 'genres'],\n",
      "      dtype='object')\n"
     ]
    }
   ],
   "source": [
    "# tabele są gotowe do połączenia, genre_id można usunąć\n",
    "# połączenie tabel na kolumnie 'genre_id'\n",
    "df = movies_raw.merge(genres_raw, on=['genre_id'])\n",
    "df.drop(['genre_id'], axis=1, inplace=True)\n",
    "\n",
    "# zmiana daty na format datetime\n",
    "df.release_date = pd.to_datetime(df.release_date)\n",
    "\n",
    "# podgląd\n",
    "print(df.columns)"
   ]
  },
  {
   "cell_type": "code",
   "execution_count": 103,
   "metadata": {},
   "outputs": [
    {
     "data": {
      "text/html": [
       "<div>\n",
       "<style scoped>\n",
       "    .dataframe tbody tr th:only-of-type {\n",
       "        vertical-align: middle;\n",
       "    }\n",
       "\n",
       "    .dataframe tbody tr th {\n",
       "        vertical-align: top;\n",
       "    }\n",
       "\n",
       "    .dataframe thead th {\n",
       "        text-align: right;\n",
       "    }\n",
       "</style>\n",
       "<table border=\"1\" class=\"dataframe\">\n",
       "  <thead>\n",
       "    <tr style=\"text-align: right;\">\n",
       "      <th></th>\n",
       "      <th>title</th>\n",
       "      <th>original_language</th>\n",
       "      <th>vote_count</th>\n",
       "      <th>vote_average</th>\n",
       "    </tr>\n",
       "  </thead>\n",
       "  <tbody>\n",
       "    <tr>\n",
       "      <th>0</th>\n",
       "      <td>The Shawshank Redemption</td>\n",
       "      <td>en</td>\n",
       "      <td>8205</td>\n",
       "      <td>8.5</td>\n",
       "    </tr>\n",
       "    <tr>\n",
       "      <th>1</th>\n",
       "      <td>The Godfather</td>\n",
       "      <td>en</td>\n",
       "      <td>5893</td>\n",
       "      <td>8.4</td>\n",
       "    </tr>\n",
       "    <tr>\n",
       "      <th>2</th>\n",
       "      <td>The Godfather: Part II</td>\n",
       "      <td>en</td>\n",
       "      <td>3338</td>\n",
       "      <td>8.3</td>\n",
       "    </tr>\n",
       "    <tr>\n",
       "      <th>3</th>\n",
       "      <td>Fight Club</td>\n",
       "      <td>en</td>\n",
       "      <td>9413</td>\n",
       "      <td>8.3</td>\n",
       "    </tr>\n",
       "    <tr>\n",
       "      <th>4</th>\n",
       "      <td>Spirited Away</td>\n",
       "      <td>ja</td>\n",
       "      <td>3840</td>\n",
       "      <td>8.3</td>\n",
       "    </tr>\n",
       "    <tr>\n",
       "      <th>5</th>\n",
       "      <td>Schindler's List</td>\n",
       "      <td>en</td>\n",
       "      <td>4329</td>\n",
       "      <td>8.3</td>\n",
       "    </tr>\n",
       "    <tr>\n",
       "      <th>6</th>\n",
       "      <td>Whiplash</td>\n",
       "      <td>en</td>\n",
       "      <td>4254</td>\n",
       "      <td>8.3</td>\n",
       "    </tr>\n",
       "    <tr>\n",
       "      <th>7</th>\n",
       "      <td>Pulp Fiction</td>\n",
       "      <td>en</td>\n",
       "      <td>8428</td>\n",
       "      <td>8.3</td>\n",
       "    </tr>\n",
       "    <tr>\n",
       "      <th>8</th>\n",
       "      <td>The Green Mile</td>\n",
       "      <td>en</td>\n",
       "      <td>4048</td>\n",
       "      <td>8.2</td>\n",
       "    </tr>\n",
       "    <tr>\n",
       "      <th>9</th>\n",
       "      <td>Princess Mononoke</td>\n",
       "      <td>ja</td>\n",
       "      <td>1983</td>\n",
       "      <td>8.2</td>\n",
       "    </tr>\n",
       "  </tbody>\n",
       "</table>\n",
       "</div>"
      ],
      "text/plain": [
       "                      title original_language  vote_count  vote_average\n",
       "0  The Shawshank Redemption                en        8205           8.5\n",
       "1             The Godfather                en        5893           8.4\n",
       "2    The Godfather: Part II                en        3338           8.3\n",
       "3                Fight Club                en        9413           8.3\n",
       "4             Spirited Away                ja        3840           8.3\n",
       "5          Schindler's List                en        4329           8.3\n",
       "6                  Whiplash                en        4254           8.3\n",
       "7              Pulp Fiction                en        8428           8.3\n",
       "8            The Green Mile                en        4048           8.2\n",
       "9         Princess Mononoke                ja        1983           8.2"
      ]
     },
     "execution_count": 103,
     "metadata": {},
     "output_type": "execute_result"
    }
   ],
   "source": [
    "'''\n",
    "Zwróć listę 10 najwyżej ocenianych filmów (vote_average), których liczba głosów (vote_count) \n",
    "jest większa od 3. kwartyla rozkładu liczby głosów.\n",
    "'''\n",
    "\n",
    "# utworzenie tabeli\n",
    "top_movies = df[['title','original_language','vote_count', 'vote_average']][df.vote_count > df.vote_count.quantile(0.75)]\\\n",
    "      .sort_values(by=['vote_average'], ascending=False).copy().head(10)\n",
    "\n",
    "# reset indeksu\n",
    "top_movies.reset_index(drop=True, inplace=True)\n",
    "\n",
    "top_movies"
   ]
  },
  {
   "cell_type": "code",
   "execution_count": 104,
   "metadata": {},
   "outputs": [
    {
     "data": {
      "text/plain": [
       "['The Shawshank Redemption',\n",
       " 'The Godfather',\n",
       " 'The Godfather: Part II',\n",
       " 'Fight Club',\n",
       " 'Spirited Away',\n",
       " \"Schindler's List\",\n",
       " 'Whiplash',\n",
       " 'Pulp Fiction',\n",
       " 'The Green Mile',\n",
       " 'Princess Mononoke']"
      ]
     },
     "execution_count": 104,
     "metadata": {},
     "output_type": "execute_result"
    }
   ],
   "source": [
    "top_movies['title'].to_list()"
   ]
  },
  {
   "cell_type": "markdown",
   "metadata": {},
   "source": [
    "Pogrupuj tabelę w taki sposób, aby otrzymać średni przychód (revenue) \n",
    "oraz średni budżet (budget) w danym roku dla filmów opublikowanych od 2010 (włącznie) do 2016 roku (włącznie). \n",
    "Następnie na tej podstawie stwórz wykres, w którym średnie przychody są wykresem kolumnowym, \n",
    "a średni budżet wykresem liniowym na tych samych osiach. Sformatuj odpowiednio oś X oraz oś Y. \n",
    "Dodaj tytuł wykresu, oraz legendę, która znajduje się w prawym górnym rogu płótna, lecz poza obszarem osi. "
   ]
  },
  {
   "cell_type": "code",
   "execution_count": 105,
   "metadata": {},
   "outputs": [
    {
     "data": {
      "text/html": [
       "<div>\n",
       "<style scoped>\n",
       "    .dataframe tbody tr th:only-of-type {\n",
       "        vertical-align: middle;\n",
       "    }\n",
       "\n",
       "    .dataframe tbody tr th {\n",
       "        vertical-align: top;\n",
       "    }\n",
       "\n",
       "    .dataframe thead th {\n",
       "        text-align: right;\n",
       "    }\n",
       "</style>\n",
       "<table border=\"1\" class=\"dataframe\">\n",
       "  <thead>\n",
       "    <tr style=\"text-align: right;\">\n",
       "      <th></th>\n",
       "      <th>release_year</th>\n",
       "      <th>budget</th>\n",
       "      <th>revenue</th>\n",
       "    </tr>\n",
       "  </thead>\n",
       "  <tbody>\n",
       "    <tr>\n",
       "      <th>0</th>\n",
       "      <td>2010</td>\n",
       "      <td>3.449541e+07</td>\n",
       "      <td>9.043811e+07</td>\n",
       "    </tr>\n",
       "    <tr>\n",
       "      <th>1</th>\n",
       "      <td>2011</td>\n",
       "      <td>3.477232e+07</td>\n",
       "      <td>9.200413e+07</td>\n",
       "    </tr>\n",
       "    <tr>\n",
       "      <th>2</th>\n",
       "      <td>2012</td>\n",
       "      <td>3.492203e+07</td>\n",
       "      <td>1.160659e+08</td>\n",
       "    </tr>\n",
       "    <tr>\n",
       "      <th>3</th>\n",
       "      <td>2013</td>\n",
       "      <td>3.552329e+07</td>\n",
       "      <td>1.013485e+08</td>\n",
       "    </tr>\n",
       "    <tr>\n",
       "      <th>4</th>\n",
       "      <td>2014</td>\n",
       "      <td>3.095989e+07</td>\n",
       "      <td>1.013466e+08</td>\n",
       "    </tr>\n",
       "    <tr>\n",
       "      <th>5</th>\n",
       "      <td>2015</td>\n",
       "      <td>3.113216e+07</td>\n",
       "      <td>1.054399e+08</td>\n",
       "    </tr>\n",
       "    <tr>\n",
       "      <th>6</th>\n",
       "      <td>2016</td>\n",
       "      <td>4.570327e+07</td>\n",
       "      <td>1.390496e+08</td>\n",
       "    </tr>\n",
       "  </tbody>\n",
       "</table>\n",
       "</div>"
      ],
      "text/plain": [
       "   release_year        budget       revenue\n",
       "0          2010  3.449541e+07  9.043811e+07\n",
       "1          2011  3.477232e+07  9.200413e+07\n",
       "2          2012  3.492203e+07  1.160659e+08\n",
       "3          2013  3.552329e+07  1.013485e+08\n",
       "4          2014  3.095989e+07  1.013466e+08\n",
       "5          2015  3.113216e+07  1.054399e+08\n",
       "6          2016  4.570327e+07  1.390496e+08"
      ]
     },
     "execution_count": 105,
     "metadata": {},
     "output_type": "execute_result"
    }
   ],
   "source": [
    "# wyodrębnienie z bazy filmów z okresu 2010-2016\n",
    "data_201016 = df[(df.release_date.dt.year >= 2010) & (df.release_date.dt.year <= 2016)].copy()\n",
    "data_201016['release_year'] = data_201016.release_date.dt.year\n",
    "data_201016.drop(['release_date'], axis=1, inplace=True)\n",
    "\n",
    "data_201016_grouped = data_201016[['release_year', 'budget', 'revenue']].groupby(['release_year']).mean()\n",
    "data_201016_grouped.reset_index(inplace=True)\n",
    "# data_201016_grouped['budget'] = data_201016_grouped['budget'].apply(lambda x: '{:2.1f}'.format(x))\n",
    "# data_201016_grouped['revenue'] = data_201016_grouped['revenue'].apply(lambda x: '{:2.1f}'.format(x))\n",
    "data_201016_grouped"
   ]
  },
  {
   "cell_type": "code",
   "execution_count": 106,
   "metadata": {},
   "outputs": [],
   "source": [
    "def plots_1():\n",
    "\n",
    "      def as_millions(value, pos):\n",
    "            return '$ {:2.1f}M'.format(value*1e-06)\n",
    "\n",
    "      fig, ax = plt.subplots(figsize=(8,5))\n",
    "\n",
    "      formatter = plt.FuncFormatter(as_millions)\n",
    "      ax.plot(data_201016_grouped['release_year'], data_201016_grouped['budget'], \n",
    "              zorder=1, \n",
    "              color='mediumblue', linewidth=2,\n",
    "              marker = 's', markersize = 5,\n",
    "              label = 'budget')\n",
    "      ax.bar(data_201016_grouped['release_year'], data_201016_grouped['revenue'], \n",
    "             zorder=0, \n",
    "             color='hotpink', alpha = 0.5,\n",
    "             edgecolor = 'darkviolet',\n",
    "             label='revenues')\n",
    "      \n",
    "      ax.set_facecolor('lightgray')\n",
    "      ax.yaxis.set_major_formatter(formatter)\n",
    "      ax.yaxis.set_major_locator(plt.MultipleLocator(2.5e7))\n",
    "      \n",
    "      ax.set_xlabel('rok', loc='center', fontsize=14)\n",
    "      ax.set_ylabel('kwota', loc='center', fontsize=14)\n",
    "      \n",
    "      plt.title('Średni przychód i budżet filmów w latach 2010-2016')\n",
    "      plt.legend(loc='upper left',bbox_to_anchor=[1,1], fontsize=10)\n",
    "      plt.show()"
   ]
  },
  {
   "cell_type": "code",
   "execution_count": 107,
   "metadata": {},
   "outputs": [],
   "source": [
    "def plots_2():\n",
    "\n",
    "      def as_millions(value, pos):\n",
    "            return '$ {:2.1f}M'.format(value*1e-06)\n",
    "\n",
    "      fig, ax = plt.subplots(figsize=(5,5))\n",
    "\n",
    "      formatter = plt.FuncFormatter(as_millions)\n",
    "      ax.bar(data_201016_grouped['release_year'], data_201016_grouped['budget'], \n",
    "              zorder=1, \n",
    "              width=-0.25,\n",
    "              align='edge',\n",
    "              color='mediumblue',\n",
    "              label = 'budget')\n",
    "      ax.bar(data_201016_grouped['release_year'], data_201016_grouped['revenue'], \n",
    "             zorder=0, \n",
    "             width=0.25,\n",
    "             align='edge',\n",
    "             color='hotpink', alpha = 0.5,\n",
    "             edgecolor = 'darkviolet',\n",
    "             label='revenues')\n",
    "      \n",
    "      ax.set_facecolor('lightgray')\n",
    "      ax.yaxis.set_major_formatter(formatter)\n",
    "      ax.yaxis.set_major_locator(plt.MultipleLocator(2.5e7))\n",
    "      \n",
    "      ax.set_xlabel('rok', loc='center', fontsize=14)\n",
    "      ax.set_ylabel('kwota', loc='center', fontsize=14)\n",
    "      \n",
    "      plt.title('Średni przychód i budżet filmów w latach 2010-2016')\n",
    "      plt.legend(loc='upper left',bbox_to_anchor=[1,1], fontsize=10)\n",
    "      plt.show()"
   ]
  },
  {
   "cell_type": "code",
   "execution_count": 108,
   "metadata": {},
   "outputs": [
    {
     "data": {
      "image/png": "[encoded data removed]",
      "text/plain": [
       "<Figure size 800x500 with 1 Axes>"
      ]
     },
     "metadata": {},
     "output_type": "display_data"
    }
   ],
   "source": [
    "plots_1()"
   ]
  },
  {
   "cell_type": "code",
   "execution_count": 109,
   "metadata": {},
   "outputs": [
    {
     "data": {
      "image/png": "[encoded data removed]",
      "text/plain": [
       "<Figure size 500x500 with 1 Axes>"
      ]
     },
     "metadata": {},
     "output_type": "display_data"
    }
   ],
   "source": [
    "plots_2()"
   ]
  },
  {
   "cell_type": "markdown",
   "metadata": {},
   "source": [
    "Jaki gatunek filmu z bazy pojawia się w niej najczęściej? Ile filmów tego gatunku znajduje się w bazie?"
   ]
  },
  {
   "cell_type": "code",
   "execution_count": 110,
   "metadata": {},
   "outputs": [
    {
     "name": "stdout",
     "output_type": "stream",
     "text": [
      "Most frequent genre is Drama\n",
      "There are 1207 movies categorized as Drama in the database.\n"
     ]
    }
   ],
   "source": [
    "genres_mode = str(df.genres.mode(dropna=True)[0])\n",
    "print(f'Most frequent genre is {genres_mode}')\n",
    "\n",
    "print(\n",
    "      f'There are {df.genres[df.genres==genres_mode].value_counts()[0]} movies categorized as {genres_mode} in the database.'\n",
    ")"
   ]
  },
  {
   "cell_type": "markdown",
   "metadata": {},
   "source": [
    "Filmy, którego gatunku trwają średnio najdłużej (runtime)?"
   ]
  },
  {
   "cell_type": "code",
   "execution_count": 111,
   "metadata": {},
   "outputs": [
    {
     "name": "stdout",
     "output_type": "stream",
     "text": [
      "max_mean_runtime = 133.96 minutes\n",
      "      genres     runtime\n",
      "0    History  133.960000\n",
      "1        War  126.125000\n",
      "2    Western  117.925926\n",
      "3      Drama  115.521559\n",
      "4  Adventure  113.061947\n",
      "The genres with max average runtime is History\n",
      "There are 25 movies categorized as History in the database.\n"
     ]
    }
   ],
   "source": [
    "df.index = df.genres\n",
    "\n",
    "max_mean_runtime = df[['runtime']].groupby(['genres']).mean().max()[0]\n",
    "print(f'{max_mean_runtime = } minutes')\n",
    "\n",
    "# lista gatunków według średniego czasu trwania\n",
    "print(df[['runtime']].groupby(['genres']).mean().sort_values(by=['runtime'],ascending=False).reset_index().head())\n",
    "\n",
    "# tu jeszcze potrzeba wyciągnąć ten gatunek\n",
    "longest_genre = df[['runtime']].groupby(['genres']).mean().sort_values(by=['runtime'],ascending=False).reset_index().iloc[0]['genres']\n",
    "\n",
    "print(f'The genres with max average runtime is {longest_genre}')\n",
    "\n",
    "print(\n",
    "      f'There are {df.genres[df.genres==longest_genre].value_counts()[0]} movies categorized as {longest_genre} in the database.'\n",
    ")"
   ]
  },
  {
   "cell_type": "markdown",
   "metadata": {},
   "source": [
    "Stwórz histogram czasu trwania filmów z gatunku, który cechuje się największym średnim czasem trwania."
   ]
  },
  {
   "cell_type": "code",
   "execution_count": 113,
   "metadata": {},
   "outputs": [],
   "source": [
    "df_hist = df[['budget','runtime','title']].loc[longest_genre]\n",
    "numbins = df_hist['runtime'].value_counts().sum()"
   ]
  },
  {
   "cell_type": "code",
   "execution_count": 116,
   "metadata": {},
   "outputs": [],
   "source": [
    "def plots_3():\n",
    "      fig, ax = plt.subplots(figsize=(5,5))\n",
    "      df_hist['runtime'].hist(\n",
    "            bins=numbins,\n",
    "            grid=False,\n",
    "            ax=ax,\n",
    "            color='pink',\n",
    "            edgecolor='red')\n",
    "      ax.set_facecolor('lightgray')\n",
    "      \n",
    "      ax.set_xlabel('czas trwania filmu')\n",
    "      ax.set_ylabel('liczba')\n",
    "\n",
    "      plt.title(f'Czas trwania filmów z gatunku {longest_genre}')\n",
    "\n",
    "      plt.show()"
   ]
  },
  {
   "cell_type": "code",
   "execution_count": 117,
   "metadata": {},
   "outputs": [
    {
     "data": {
      "image/png": "[encoded data removed]",
      "text/plain": [
       "<Figure size 500x500 with 1 Axes>"
      ]
     },
     "metadata": {},
     "output_type": "display_data"
    }
   ],
   "source": [
    "plots_3()"
   ]
  }
 ],
 "metadata": {
  "kernelspec": {
   "display_name": "Python 3",
   "language": "python",
   "name": "python3"
  },
  "language_info": {
   "codemirror_mode": {
    "name": "ipython",
    "version": 3
   },
   "file_extension": ".py",
   "mimetype": "text/x-python",
   "name": "python",
   "nbconvert_exporter": "python",
   "pygments_lexer": "ipython3",
   "version": "3.11.2"
  },
  "orig_nbformat": 4
 },
 "nbformat": 4,
 "nbformat_minor": 2
}
